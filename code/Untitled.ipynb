{
 "cells": [
  {
   "cell_type": "code",
   "execution_count": 1,
   "metadata": {},
   "outputs": [],
   "source": [
    "import numpy as np \n"
   ]
  },
  {
   "cell_type": "code",
   "execution_count": 2,
   "metadata": {},
   "outputs": [],
   "source": [
    "data=np.loadtxt('inflammation-01.csv', delimiter=',')\n",
    "#\"loadtext\" é uma função do pacote \"np\" para ler e carregar arquivos externos#\n",
    "#\"delimiter\" é empregado para espoecificar o tipo de delimitador. O parâmetro relacionado ao tipo de delimitador#\n",
    "#é inserido após o sinal de igual(\"=\")#\n",
    "#No caso de arquivos .csv, o delimitador é uma vírgula (\",\")#"
   ]
  },
  {
   "cell_type": "code",
   "execution_count": 3,
   "metadata": {},
   "outputs": [
    {
     "name": "stdout",
     "output_type": "stream",
     "text": [
      "<type 'numpy.ndarray'>\n"
     ]
    }
   ],
   "source": [
    "print type(data)"
   ]
  },
  {
   "cell_type": "code",
   "execution_count": 4,
   "metadata": {},
   "outputs": [
    {
     "name": "stdout",
     "output_type": "stream",
     "text": [
      "float64\n"
     ]
    }
   ],
   "source": [
    "print data.dtype"
   ]
  },
  {
   "cell_type": "code",
   "execution_count": 5,
   "metadata": {},
   "outputs": [
    {
     "name": "stdout",
     "output_type": "stream",
     "text": [
      "2400\n"
     ]
    }
   ],
   "source": [
    "print data.size"
   ]
  },
  {
   "cell_type": "code",
   "execution_count": 6,
   "metadata": {},
   "outputs": [
    {
     "name": "stdout",
     "output_type": "stream",
     "text": [
      "(60L, 40L)\n"
     ]
    }
   ],
   "source": [
    "print data.shape"
   ]
  },
  {
   "cell_type": "code",
   "execution_count": 7,
   "metadata": {},
   "outputs": [],
   "source": [
    "#print data(0)"
   ]
  },
  {
   "cell_type": "code",
   "execution_count": 8,
   "metadata": {},
   "outputs": [
    {
     "name": "stdout",
     "output_type": "stream",
     "text": [
      "0.0\n"
     ]
    }
   ],
   "source": [
    "print data[0,0]"
   ]
  },
  {
   "cell_type": "code",
   "execution_count": 9,
   "metadata": {},
   "outputs": [
    {
     "name": "stdout",
     "output_type": "stream",
     "text": [
      "13.0\n"
     ]
    }
   ],
   "source": [
    "print data[30,20]"
   ]
  },
  {
   "cell_type": "code",
   "execution_count": 10,
   "metadata": {},
   "outputs": [
    {
     "name": "stdout",
     "output_type": "stream",
     "text": [
      "[[0. 0. 1. 3. 1. 2. 4. 7. 8. 3.]\n",
      " [0. 1. 2. 1. 2. 1. 3. 2. 2. 6.]\n",
      " [0. 1. 1. 3. 3. 2. 6. 2. 5. 9.]]\n"
     ]
    }
   ],
   "source": [
    "print data[0:3,0:10]"
   ]
  },
  {
   "cell_type": "code",
   "execution_count": 11,
   "metadata": {},
   "outputs": [
    {
     "name": "stdout",
     "output_type": "stream",
     "text": [
      "[[0. 0. 1. 3. 1. 2. 4. 7. 8. 3.]\n",
      " [0. 1. 2. 1. 2. 1. 3. 2. 2. 6.]\n",
      " [0. 1. 1. 3. 3. 2. 6. 2. 5. 9.]\n",
      " [0. 0. 2. 0. 4. 2. 2. 1. 6. 7.]]\n"
     ]
    }
   ],
   "source": [
    "print data[0:4,0:10]"
   ]
  },
  {
   "cell_type": "code",
   "execution_count": 12,
   "metadata": {},
   "outputs": [
    {
     "name": "stdout",
     "output_type": "stream",
     "text": [
      "[[0. 0. 1. 3. 1. 2. 4. 7. 8. 3.]\n",
      " [0. 1. 2. 1. 2. 1. 3. 2. 2. 6.]\n",
      " [0. 1. 1. 3. 3. 2. 6. 2. 5. 9.]\n",
      " [0. 0. 2. 0. 4. 2. 2. 1. 6. 7.]]\n"
     ]
    }
   ],
   "source": [
    "print data[:4,:10]"
   ]
  },
  {
   "cell_type": "code",
   "execution_count": 13,
   "metadata": {},
   "outputs": [
    {
     "name": "stdout",
     "output_type": "stream",
     "text": [
      "[[2. 3. 0. 0.]\n",
      " [1. 1. 0. 1.]\n",
      " [2. 2. 1. 1.]]\n"
     ]
    }
   ],
   "source": [
    "print data[0:3,36:40]"
   ]
  },
  {
   "cell_type": "code",
   "execution_count": 14,
   "metadata": {},
   "outputs": [
    {
     "name": "stdout",
     "output_type": "stream",
     "text": [
      "[[2. 3. 0. 0.]\n",
      " [1. 1. 0. 1.]\n",
      " [2. 2. 1. 1.]]\n"
     ]
    }
   ],
   "source": [
    "print data[:3,36:]"
   ]
  },
  {
   "cell_type": "code",
   "execution_count": 15,
   "metadata": {},
   "outputs": [],
   "source": [
    "data1=data*2"
   ]
  },
  {
   "cell_type": "code",
   "execution_count": 16,
   "metadata": {},
   "outputs": [
    {
     "name": "stdout",
     "output_type": "stream",
     "text": [
      "[[4. 6. 0. 0.]\n",
      " [2. 2. 0. 2.]\n",
      " [4. 4. 2. 2.]]\n"
     ]
    }
   ],
   "source": [
    "print data1[:3,36:]"
   ]
  },
  {
   "cell_type": "code",
   "execution_count": 17,
   "metadata": {},
   "outputs": [],
   "source": [
    "data2=data1+data"
   ]
  },
  {
   "cell_type": "code",
   "execution_count": 18,
   "metadata": {},
   "outputs": [
    {
     "name": "stdout",
     "output_type": "stream",
     "text": [
      "[[6. 9. 0. 0.]\n",
      " [3. 3. 0. 3.]\n",
      " [6. 6. 3. 3.]]\n"
     ]
    }
   ],
   "source": [
    "print data2[:3,36:]"
   ]
  },
  {
   "cell_type": "code",
   "execution_count": 19,
   "metadata": {},
   "outputs": [
    {
     "data": {
      "text/plain": [
       "6.14875"
      ]
     },
     "execution_count": 19,
     "metadata": {},
     "output_type": "execute_result"
    }
   ],
   "source": [
    "np.mean(data)"
   ]
  },
  {
   "cell_type": "code",
   "execution_count": 20,
   "metadata": {},
   "outputs": [
    {
     "data": {
      "text/plain": [
       "4.613833197118566"
      ]
     },
     "execution_count": 20,
     "metadata": {},
     "output_type": "execute_result"
    }
   ],
   "source": [
    "np.std(data)"
   ]
  },
  {
   "cell_type": "code",
   "execution_count": 21,
   "metadata": {},
   "outputs": [],
   "source": [
    "#np.dot(data,data1)"
   ]
  },
  {
   "cell_type": "code",
   "execution_count": 22,
   "metadata": {},
   "outputs": [],
   "source": [
    "#np.T(data1)"
   ]
  },
  {
   "cell_type": "code",
   "execution_count": 23,
   "metadata": {},
   "outputs": [
    {
     "data": {
      "text/plain": [
       "array([[3592., 2844., 3430., ..., 3868., 3894., 3480.],\n",
       "       [2844., 3850., 3642., ..., 3538., 3930., 3346.],\n",
       "       [3430., 3642., 4788., ..., 4296., 4620., 3954.],\n",
       "       ...,\n",
       "       [3868., 3538., 4296., ..., 4880., 4748., 4282.],\n",
       "       [3894., 3930., 4620., ..., 4748., 5752., 4514.],\n",
       "       [3480., 3346., 3954., ..., 4282., 4514., 4436.]])"
      ]
     },
     "execution_count": 23,
     "metadata": {},
     "output_type": "execute_result"
    }
   ],
   "source": [
    "np.dot(data,data1.T)"
   ]
  },
  {
   "cell_type": "code",
   "execution_count": 24,
   "metadata": {},
   "outputs": [],
   "source": [
    "#np.linalg.inv(data2)"
   ]
  },
  {
   "cell_type": "code",
   "execution_count": 25,
   "metadata": {},
   "outputs": [
    {
     "data": {
      "text/plain": [
       "array([[-2.34095260e+11,  3.81128384e+11, -7.26800230e+11, ...,\n",
       "         3.88562980e+10,  1.35542438e+11,  3.31891952e+11],\n",
       "       [-4.94548325e+10,  6.27444642e+11, -1.91487809e+11, ...,\n",
       "        -1.87870955e+11,  3.08051060e+11,  6.31170608e+11],\n",
       "       [-3.93017022e+11,  1.36697493e+12, -6.74011046e+11, ...,\n",
       "        -2.08488367e+11,  5.17577477e+11,  1.94746707e+12],\n",
       "       ...,\n",
       "       [ 1.25257591e+11, -1.63946228e+11,  1.46375145e+11, ...,\n",
       "         4.68823587e+10, -4.83276078e+10, -3.17770648e+11],\n",
       "       [ 5.52099510e+11, -8.03261466e+11,  1.16936525e+12, ...,\n",
       "        -2.96555489e+11, -2.21357806e+11, -1.25662233e+12],\n",
       "       [-2.09630999e+11,  3.90618641e+11, -4.62294434e+11, ...,\n",
       "         9.60114229e+10,  7.44548227e+10,  6.38853675e+11]])"
      ]
     },
     "execution_count": 25,
     "metadata": {},
     "output_type": "execute_result"
    }
   ],
   "source": [
    "np.linalg.inv(np.dot(data,data1.T))"
   ]
  },
  {
   "cell_type": "code",
   "execution_count": 26,
   "metadata": {},
   "outputs": [],
   "source": [
    "a,b=np.max(data),np.min(data)"
   ]
  },
  {
   "cell_type": "code",
   "execution_count": 27,
   "metadata": {},
   "outputs": [
    {
     "name": "stdout",
     "output_type": "stream",
     "text": [
      "20.0 0.0\n"
     ]
    }
   ],
   "source": [
    "print a,b"
   ]
  },
  {
   "cell_type": "code",
   "execution_count": 28,
   "metadata": {},
   "outputs": [
    {
     "name": "stdout",
     "output_type": "stream",
     "text": [
      "Este valor máximo:  20.0\n",
      "Valor mínimo: 0.0\n",
      "Desvio padrão: 4.613833197118566\n"
     ]
    }
   ],
   "source": [
    "print 'Este valor máximo: ',a\n",
    "print 'Valor mínimo:', b\n",
    "print 'Desvio padrão:', np.std(data)"
   ]
  },
  {
   "cell_type": "code",
   "execution_count": 29,
   "metadata": {},
   "outputs": [],
   "source": [
    "a=data[0,:]"
   ]
  },
  {
   "cell_type": "code",
   "execution_count": 30,
   "metadata": {},
   "outputs": [
    {
     "name": "stdout",
     "output_type": "stream",
     "text": [
      "[ 0.  0.  1.  3.  1.  2.  4.  7.  8.  3.  3.  3. 10.  5.  7.  4.  7.  7.\n",
      " 12. 18.  6. 13. 11. 11.  7.  7.  4.  6.  8.  8.  4.  4.  5.  7.  3.  4.\n",
      "  2.  3.  0.  0.]\n"
     ]
    }
   ],
   "source": [
    "print a"
   ]
  },
  {
   "cell_type": "code",
   "execution_count": 31,
   "metadata": {},
   "outputs": [],
   "source": [
    "#a=paciente0"
   ]
  },
  {
   "cell_type": "code",
   "execution_count": 32,
   "metadata": {},
   "outputs": [],
   "source": [
    "paciente0=data[0,:]"
   ]
  },
  {
   "cell_type": "code",
   "execution_count": 33,
   "metadata": {},
   "outputs": [
    {
     "name": "stdout",
     "output_type": "stream",
     "text": [
      "[ 0.  0.  1.  3.  1.  2.  4.  7.  8.  3.  3.  3. 10.  5.  7.  4.  7.  7.\n",
      " 12. 18.  6. 13. 11. 11.  7.  7.  4.  6.  8.  8.  4.  4.  5.  7.  3.  4.\n",
      "  2.  3.  0.  0.]\n"
     ]
    }
   ],
   "source": [
    "print paciente0"
   ]
  },
  {
   "cell_type": "code",
   "execution_count": 34,
   "metadata": {},
   "outputs": [
    {
     "name": "stdout",
     "output_type": "stream",
     "text": [
      "18.0\n"
     ]
    }
   ],
   "source": [
    "print np.max(paciente0)"
   ]
  },
  {
   "cell_type": "code",
   "execution_count": 35,
   "metadata": {},
   "outputs": [],
   "source": [
    "paciente2=data[2,:]"
   ]
  },
  {
   "cell_type": "code",
   "execution_count": 36,
   "metadata": {},
   "outputs": [
    {
     "name": "stdout",
     "output_type": "stream",
     "text": [
      "19.0\n"
     ]
    }
   ],
   "source": [
    "print np.max(paciente2)"
   ]
  },
  {
   "cell_type": "code",
   "execution_count": 37,
   "metadata": {},
   "outputs": [
    {
     "name": "stdout",
     "output_type": "stream",
     "text": [
      "[ 0.          0.45        1.11666667  1.75        2.43333333  3.15\n",
      "  3.8         3.88333333  5.23333333  5.51666667  5.95        5.9\n",
      "  8.35        7.73333333  8.36666667  9.5         9.58333333 10.63333333\n",
      " 11.56666667 12.35       13.25       11.96666667 11.03333333 10.16666667\n",
      " 10.          8.66666667  9.15        7.25        7.33333333  6.58333333\n",
      "  6.06666667  5.95        5.11666667  3.6         3.3         3.56666667\n",
      "  2.48333333  1.5         1.13333333  0.56666667]\n"
     ]
    }
   ],
   "source": [
    "print np.mean(data,axis=0)"
   ]
  },
  {
   "cell_type": "code",
   "execution_count": 38,
   "metadata": {},
   "outputs": [
    {
     "data": {
      "text/plain": [
       "(40L,)"
      ]
     },
     "execution_count": 38,
     "metadata": {},
     "output_type": "execute_result"
    }
   ],
   "source": [
    "np.mean(data,axis=0).shape"
   ]
  },
  {
   "cell_type": "code",
   "execution_count": 39,
   "metadata": {},
   "outputs": [
    {
     "name": "stdout",
     "output_type": "stream",
     "text": [
      "[5.45  5.425 6.1   5.9   5.55  6.225 5.975 6.65  6.625 6.525 6.775 5.8\n",
      " 6.225 5.75  5.225 6.3   6.55  5.7   5.85  6.55  5.775 5.825 6.175 6.1\n",
      " 5.8   6.425 6.05  6.025 6.175 6.55  6.175 6.35  6.725 6.125 7.075 5.725\n",
      " 5.925 6.15  6.075 5.75  5.975 5.725 6.3   5.9   6.75  5.925 7.225 6.15\n",
      " 5.95  6.275 5.7   6.1   6.825 5.975 6.725 5.7   6.25  6.4   7.05  5.9  ]\n"
     ]
    }
   ],
   "source": [
    "print np.mean(data,axis=1)"
   ]
  },
  {
   "cell_type": "code",
   "execution_count": 40,
   "metadata": {},
   "outputs": [
    {
     "data": {
      "text/plain": [
       "(60L,)"
      ]
     },
     "execution_count": 40,
     "metadata": {},
     "output_type": "execute_result"
    }
   ],
   "source": [
    "np.mean(data,axis=1).shape"
   ]
  },
  {
   "cell_type": "code",
   "execution_count": 41,
   "metadata": {},
   "outputs": [],
   "source": [
    "%matplotlib inline \n",
    "#comando que força os gráficos a serem exibidos na mesma janela dos comandos#\n",
    "#o símbolo de % no início do comando indica que se trata de uma função \"mágica\" do notebook Jupyter#\n",
    "import matplotlib.pyplot as plt \n",
    "#matplotlib é um pacote com ferramentas gráficas# \n",
    "#pyplot, neste caso, é uma função do pacote gráfico matplotlib#\n",
    "#Não confundir função com método; métodos são aplicados única e diretamente a variáveis#"
   ]
  },
  {
   "cell_type": "code",
   "execution_count": 44,
   "metadata": {},
   "outputs": [
    {
     "data": {
      "image/png": "[encoded data removed]",
      "text/plain": [
       "<Figure size 432x288 with 2 Axes>"
      ]
     },
     "metadata": {
      "needs_background": "light"
     },
     "output_type": "display_data"
    }
   ],
   "source": [
    "image=plt.imshow(data)\n",
    "plt.colorbar()\n",
    "plt.show()"
   ]
  },
  {
   "cell_type": "code",
   "execution_count": 43,
   "metadata": {},
   "outputs": [
    {
     "data": {
      "image/png": "[encoded data removed]",
      "text/plain": [
       "<Figure size 432x288 with 1 Axes>"
      ]
     },
     "metadata": {
      "needs_background": "light"
     },
     "output_type": "display_data"
    }
   ],
   "source": [
    "image=plt.plot(paciente2)\n",
    "plt.show()"
   ]
  },
  {
   "cell_type": "code",
   "execution_count": 45,
   "metadata": {},
   "outputs": [],
   "source": [
    "mean=np.mean(data,axis=0) #não declarar variável caso o nome escolhido mude de cor (por exemplo, a palavra \"list\" muda#\n",
    "#para a cor verde), pois essa mudança indica que se trata de uma função ou método específico do próprio Python#\n",
    "\n",
    "#o parâmetro \"axis\" pode valer \"0\" ou \"1\", sendo que \"0\" calcula de cima para baixo (ou seja, numa coluna) e \"1\" computa#\n",
    "#a operação da esquerda para a direta (ou seja, ao longo de uma linha)#\n",
    "\n",
    "\n",
    "#Obs.: \"Shift+Enter\" executa a célula atual de trabalho#\n",
    "#Obs.: clicar na área branca da célula e em seguida pressionar a tecla \"B\" do teclado insere uma nova célular abaixo da atual#\n",
    "\n"
   ]
  },
  {
   "cell_type": "code",
   "execution_count": 47,
   "metadata": {},
   "outputs": [
    {
     "data": {
      "image/png": "[encoded data removed]",
      "text/plain": [
       "<Figure size 432x288 with 1 Axes>"
      ]
     },
     "metadata": {
      "needs_background": "light"
     },
     "output_type": "display_data"
    }
   ],
   "source": [
    "plt.plot(mean) #\"plt.plot\" vai computar o gráfico unidmensional#\n",
    "plt.show() #exibe o gráfico 1D computado no comando anterior#\n"
   ]
  },
  {
   "cell_type": "code",
   "execution_count": 49,
   "metadata": {},
   "outputs": [
    {
     "data": {
      "image/png": "[encoded data removed]",
      "text/plain": [
       "<Figure size 432x288 with 1 Axes>"
      ]
     },
     "metadata": {
      "needs_background": "light"
     },
     "output_type": "display_data"
    }
   ],
   "source": [
    "plt.plot(np.max(data,axis=0))\n",
    "#foi eliminada a necessidade de definir uma varável nova somente para o valor máximo dos dados#\n",
    "#o valor máximo já foi inserido diretamente na parte de parâmetros da função \"plt.plot\"#\n",
    "plt.show()\n"
   ]
  },
  {
   "cell_type": "code",
   "execution_count": 51,
   "metadata": {},
   "outputs": [
    {
     "data": {
      "text/plain": [
       "[<matplotlib.lines.Line2D at 0xa3318d0>]"
      ]
     },
     "execution_count": 51,
     "metadata": {},
     "output_type": "execute_result"
    },
    {
     "data": {
      "image/png": "[encoded data removed]",
      "text/plain": [
       "<Figure size 432x288 with 1 Axes>"
      ]
     },
     "metadata": {
      "needs_background": "light"
     },
     "output_type": "display_data"
    }
   ],
   "source": [
    "plt.plot (np.max(data,axis=0),'ok')\n",
    "#o parâmetro '^m' indica que os valores máximos estarão representados por triângulos ('^') na cor magenta ('m') #\n",
    "#cor preta = 'k' e círculos='o'#"
   ]
  },
  {
   "cell_type": "code",
   "execution_count": 52,
   "metadata": {},
   "outputs": [
    {
     "data": {
      "text/plain": [
       "[<matplotlib.lines.Line2D at 0xa6fce80>]"
      ]
     },
     "execution_count": 52,
     "metadata": {},
     "output_type": "execute_result"
    },
    {
     "data": {
      "image/png": "[encoded data removed]",
      "text/plain": [
       "<Figure size 432x288 with 1 Axes>"
      ]
     },
     "metadata": {
      "needs_background": "light"
     },
     "output_type": "display_data"
    }
   ],
   "source": [
    "plt.plot(np.min(data,axis=0),'sg')\n",
    "#quadrados='s'(\"square\") e verde='g'(\"green\")"
   ]
  },
  {
   "cell_type": "code",
   "execution_count": 64,
   "metadata": {},
   "outputs": [
    {
     "data": {
      "text/plain": [
       "<function matplotlib.pyplot.show>"
      ]
     },
     "execution_count": 64,
     "metadata": {},
     "output_type": "execute_result"
    },
    {
     "data": {
      "image/png": "[encoded data removed]",
      "text/plain": [
       "<Figure size 720x216 with 3 Axes>"
      ]
     },
     "metadata": {
      "needs_background": "light"
     },
     "output_type": "display_data"
    }
   ],
   "source": [
    "\n",
    "#Obs.: o caracter \"#\" indica que a linha não será executada; é apenas um comentário#\n",
    "\n",
    "fig=plt.figure(figsize=(10,3))\n",
    "\n",
    "axes1=fig.add_subplot(1,3,1)\n",
    "#\"axes\" é o plural de \"axis\"#\n",
    "#o parâmetro '(1,3,1)' indica o seguinte:#\n",
    "#'1' denota que os gráficos serão dispostos horizontalmente em '1' única linha#\n",
    "#'3' indica que serão '3' colunas de gráficos e o último '1', neste caso, indica que este será o primeiro gráfico plotado#\n",
    "#'add_subplot' denota que serão plotados \"x\" gráficos na mesma janela# \n",
    "\n",
    "axes2=fig.add_subplot(1,3,2)\n",
    "#\"axes\" é o plural de \"axis\"#\n",
    "#o parâmetro '(1,3,2)' indica o seguinte:#\n",
    "#'1' denota que os gráficos serão dispostos horizontalmente em '1' única linha#\n",
    "#'3' indica que serão '3' colunas de gráficos e o último '2', neste caso, indica que este será o primeiro gráfico plotado#\n",
    "#'add_subplot' denota que serão plotados \"x\" gráficos na mesma janela#\n",
    "\n",
    "axes3=fig.add_subplot(1,3,3)\n",
    "#\"axes\" é o plural de \"axis\"#\n",
    "#o parâmetro '(1,3,3)' indica o seguinte:#\n",
    "#'1' denota que os gráficos serão dispostos horizontalmente em '1' única linha#\n",
    "#'3' indica que serão '3' colunas de gráficos e o último '3', neste caso, indica que este será o primeiro gráfico plotado#\n",
    "#'add_subplot' denota que serão plotados \"x\" gráficos na mesma janela#\n",
    "\n",
    "\n",
    "\n",
    "axes1.plot(mean)\n",
    "#plota o gráfico do primeiro subplot (axes1)#\n",
    "\n",
    "axes1.set_ylabel(\"media\")\n",
    "#coloca o nome de \"media\" no eixo y do primeiro subplot (axes1)#\n",
    "\n",
    "axes1.set_xlabel('dias')\n",
    "#coloca o nome de \"dias\" no eixo x do primeiro subplot (axes1)#\n",
    "\n",
    "\n",
    "\n",
    "axes2.plot(np.max(data,axis=0),'green')\n",
    "#plota o gráfico do segundo subplot (axes2)#\n",
    "\n",
    "axes2.set_ylabel(\"valor maximo\")\n",
    "#coloca o nome de \"valor maximo\" no eixo y do segundo subplot (axes2)#\n",
    "\n",
    "axes2.set_xlabel('dias')\n",
    "#coloca o nome de \"dias\" no eixo x do segundo subplot (axes2)#\n",
    "\n",
    "\n",
    "\n",
    "axes3.plot(np.min(data,axis=0),'blue')\n",
    "#plota o gráfico do terceiro subplot (axes3)#\n",
    "\n",
    "axes3.set_ylabel(\"valor minimo\")\n",
    "#coloca o nome de \"valor maximo\" no eixo y do terceiro subplot (axes3)#\n",
    "\n",
    "axes3.set_xlabel('dias')\n",
    "#coloca o nome de \"dias\" no eixo x do terceiro subplot (axes3)#\n",
    "\n",
    "fig.tight_layout()\n",
    "#redimensiona e organiza melhor cada subplot dentro da figura principal#\n",
    "\n",
    "plt.show\n",
    "#mostrar os subplots#\n"
   ]
  },
  {
   "cell_type": "code",
   "execution_count": 66,
   "metadata": {},
   "outputs": [
    {
     "data": {
      "text/plain": [
       "<function matplotlib.pyplot.show>"
      ]
     },
     "execution_count": 66,
     "metadata": {},
     "output_type": "execute_result"
    },
    {
     "data": {
      "image/png": "[encoded data removed]",
      "text/plain": [
       "<Figure size 432x288 with 1 Axes>"
      ]
     },
     "metadata": {
      "needs_background": "light"
     },
     "output_type": "display_data"
    }
   ],
   "source": [
    "plt.plot(np.min(data,axis=0)) #plot de um gráfico avulso#\n",
    "plt.xlabel('dias') #nomeia o eixo x de cada gráfico em separado#\n",
    "plt.ylabel('media') #nomeia o eixo y de cada gráfico em separado#\n",
    "plt.show #exibe o gráfico separadamnente#\n",
    "\n",
    "#Observação: \"plt.xlabel\" e \"plt.ylabel\" são funções do pacote \"matplotlib.pyplot\"#\n",
    "#Neste caso, aplica-se a função a plots individuais (avulsos)#\n",
    "\n",
    "#Observação: \"axes1.plot()\", \"axes1.set_xlabel()\" e \"axes.set_ylabel()\" são métodos aplicados a um objeto#\n",
    "#Neste caso, o objeto é um subplot#\n",
    "\n",
    "#Os comentários acima servirão para enfartizar a diferença entre funções e métodos no ambiente Python#"
   ]
  },
  {
   "cell_type": "code",
   "execution_count": null,
   "metadata": {},
   "outputs": [],
   "source": []
  }
 ],
 "metadata": {
  "kernelspec": {
   "display_name": "Python 2",
   "language": "python",
   "name": "python2"
  },
  "language_info": {
   "codemirror_mode": {
    "name": "ipython",
    "version": 2
   },
   "file_extension": ".py",
   "mimetype": "text/x-python",
   "name": "python",
   "nbconvert_exporter": "python",
   "pygments_lexer": "ipython2",
   "version": "2.7.16"
  }
 },
 "nbformat": 4,
 "nbformat_minor": 2
}
