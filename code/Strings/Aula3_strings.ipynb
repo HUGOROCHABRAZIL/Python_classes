{
 "cells": [
  {
   "cell_type": "markdown",
   "metadata": {},
   "source": [
    "# $\\textbf{STRINGS 2}$\n",
    "\n",
    "### Propriedades das Strings\n",
    "\n",
    "Na aula passada, vimos o que são strings: como declará-los e manipulá-los, de forma a obter apenas um elemento e/ou \n",
    "selecionar um subconjunto de elementos. No primeiro caso, usamos o indexamento. Cada elemento é associado a um índice específico de acordo com a sua posição dentro da string. No segundo caso, usamos o *slicing*. O subconjunto é obtido usando uma sequencia de índices que delimitam os elementos desejados.\n",
    "\n",
    "### Uma pergunta que vai ser muito importante para futuras manipulações é: Uma vez declarada a string, é possível substituir um elemento por outro???\n",
    "Na primeira aula, vimos, especialmente com relação aos vetores, que era possível substituir seus elementos a qualquer momento (vide exemplo abaixo)."
   ]
  },
  {
   "cell_type": "code",
   "execution_count": 2,
   "metadata": {},
   "outputs": [],
   "source": [
    "import numpy as np"
   ]
  },
  {
   "cell_type": "code",
   "execution_count": 3,
   "metadata": {},
   "outputs": [
    {
     "data": {
      "text/plain": [
       "array([1., 2., 3.])"
      ]
     },
     "execution_count": 3,
     "metadata": {},
     "output_type": "execute_result"
    }
   ],
   "source": [
    "# DECLARANDO UM VETOR\n",
    "a = np.array([1., 2., 3.])\n",
    "a"
   ]
  },
  {
   "cell_type": "code",
   "execution_count": 4,
   "metadata": {},
   "outputs": [
    {
     "name": "stdout",
     "output_type": "stream",
     "text": [
      "1.0 2.0 3.0\n"
     ]
    }
   ],
   "source": [
    "print a[0], a[1], a[2]"
   ]
  },
  {
   "cell_type": "code",
   "execution_count": 5,
   "metadata": {},
   "outputs": [],
   "source": [
    "a[1] = 8."
   ]
  },
  {
   "cell_type": "code",
   "execution_count": 6,
   "metadata": {},
   "outputs": [
    {
     "data": {
      "text/plain": [
       "array([1., 8., 3.])"
      ]
     },
     "execution_count": 6,
     "metadata": {},
     "output_type": "execute_result"
    }
   ],
   "source": [
    "a"
   ]
  },
  {
   "cell_type": "markdown",
   "metadata": {},
   "source": [
    "Agora faça o mesmo com uma string e veja o resultado. Qual a conclusão do teste?"
   ]
  },
  {
   "cell_type": "code",
   "execution_count": 1,
   "metadata": {},
   "outputs": [],
   "source": [
    "# DECLARE UMA STRING\n"
   ]
  },
  {
   "cell_type": "code",
   "execution_count": null,
   "metadata": {},
   "outputs": [],
   "source": [
    "# SELECIONE UM DETERMINADO ELEMENTO DA STRING E O SUBTSTITUA POR OUTRO\n"
   ]
  },
  {
   "cell_type": "markdown",
   "metadata": {},
   "source": [
    "Conclusão:"
   ]
  },
  {
   "cell_type": "markdown",
   "metadata": {},
   "source": [
    "$\\textbf{Exercício 1 - Concatenação:}$ Declare duas strings. Una-as (Concatene-as) de forma a produzir uma frase que faça sentido."
   ]
  },
  {
   "cell_type": "code",
   "execution_count": null,
   "metadata": {},
   "outputs": [],
   "source": []
  },
  {
   "cell_type": "code",
   "execution_count": null,
   "metadata": {},
   "outputs": [],
   "source": []
  },
  {
   "cell_type": "code",
   "execution_count": null,
   "metadata": {},
   "outputs": [],
   "source": []
  },
  {
   "cell_type": "markdown",
   "metadata": {},
   "source": [
    "$\\textbf{Exercício 2:}$ Uma onomatopeia muito conhecida é o *zzzzzzzzzzzzz* que identifica quando um personagem está dormindo. Como que podemos criar essa onomatopeia usando apenas uma string e uma operação matemática?"
   ]
  },
  {
   "cell_type": "code",
   "execution_count": null,
   "metadata": {},
   "outputs": [],
   "source": []
  },
  {
   "cell_type": "markdown",
   "metadata": {},
   "source": [
    "$\\textbf{Exercício 3:}$ Qual é a diferença entre se fazer uma adição da maneira $2+3$ e da seguinte maneira *'2'+'3'*? Como que o Python interpreta isso? Faça o teste."
   ]
  },
  {
   "cell_type": "code",
   "execution_count": null,
   "metadata": {},
   "outputs": [],
   "source": []
  },
  {
   "cell_type": "code",
   "execution_count": null,
   "metadata": {},
   "outputs": [],
   "source": []
  },
  {
   "cell_type": "markdown",
   "metadata": {},
   "source": [
    "### Métodos das Strings\n",
    "\n",
    "Métodos são funções *built-in* associados ao tipo de variável à qual serão aplicados. Existe um grande conjunto de métodos que podem ser usados para strings, listas, arrays, etc. Uma vez que uma variável é declarada, o Python já estabelece automaticamente os métodos que podem ser aplicados à ela. Os métodos são chamados digitando um *.* após a variável e a seguir o nome do método que se deseja usar. Para consultar quais métodos estão disponíveis para uma determinada variável é só clicar TAB após o ponto que uma janela aparecerá mostrando-os."
   ]
  },
  {
   "cell_type": "code",
   "execution_count": 10,
   "metadata": {},
   "outputs": [],
   "source": [
    "# DECLARE UMA STRING\n",
    "s = 'Crystal'"
   ]
  },
  {
   "cell_type": "markdown",
   "metadata": {},
   "source": [
    "Suponha que quiséssemos imprimir a string com todos os seus elementos em CAPS LOCK. Ao invés de criar uma nova variável com todos os elementos transformados desta forma, existe um método que faz isso automaticamente. Chama-se o método *upper*. Teste-o na string declarada acima."
   ]
  },
  {
   "cell_type": "code",
   "execution_count": 12,
   "metadata": {},
   "outputs": [
    {
     "data": {
      "text/plain": [
       "<function upper>"
      ]
     },
     "execution_count": 12,
     "metadata": {},
     "output_type": "execute_result"
    }
   ],
   "source": [
    "s.upper"
   ]
  },
  {
   "cell_type": "markdown",
   "metadata": {},
   "source": [
    "Repare que o Python não imprimiu o resultado que queríamos, sendo este igual a 'CRYSTAL'. Na verdade o Python interpreta células como a anterior como se perguntássemos o que é $\\textbf{s.upper}$, sendo sua resposta $\\textbf{um objeto chamado function upper}$.\n",
    "\n",
    "$\\textbf{OBS}$: Repare que chamamos de método e o Python de função. Existe uma diferença fundamental entre métodos e funções que ficará mais claro quando estudarmos funções.\n",
    "\n",
    "Para, de fato, executarmos o método desejado, é necessário usar parêntesis após o nome do método. Teste isso."
   ]
  },
  {
   "cell_type": "code",
   "execution_count": 13,
   "metadata": {},
   "outputs": [
    {
     "data": {
      "text/plain": [
       "'CRYSTAL'"
      ]
     },
     "execution_count": 13,
     "metadata": {},
     "output_type": "execute_result"
    }
   ],
   "source": [
    "s.upper()"
   ]
  },
  {
   "cell_type": "markdown",
   "metadata": {},
   "source": [
    "Lembre-se que é possível descobrir a funcionalidade de um método clicando $\\textbf{SHIFT + TAB}$ após o seu nome. Vamos testar outros métodos."
   ]
  },
  {
   "cell_type": "code",
   "execution_count": null,
   "metadata": {},
   "outputs": [],
   "source": [
    "# DECLARE UMA STRING QUE SEJA COMPOSTA POR UMA FRASE\n"
   ]
  },
  {
   "cell_type": "markdown",
   "metadata": {},
   "source": [
    "Com o nome da variável, obtenha a funcionalidade do método *.split()*. Em seguida, teste-o."
   ]
  },
  {
   "cell_type": "code",
   "execution_count": null,
   "metadata": {},
   "outputs": [],
   "source": []
  },
  {
   "cell_type": "markdown",
   "metadata": {},
   "source": [
    "Agora repita o teste para a string abaixo."
   ]
  },
  {
   "cell_type": "code",
   "execution_count": null,
   "metadata": {},
   "outputs": [],
   "source": [
    "s = 'Hi this is a string'"
   ]
  },
  {
   "cell_type": "code",
   "execution_count": null,
   "metadata": {},
   "outputs": [],
   "source": []
  },
  {
   "cell_type": "code",
   "execution_count": null,
   "metadata": {},
   "outputs": [],
   "source": []
  },
  {
   "cell_type": "markdown",
   "metadata": {},
   "source": [
    "### Interpolação de Strings\n",
    "\n"
   ]
  },
  {
   "cell_type": "code",
   "execution_count": null,
   "metadata": {},
   "outputs": [],
   "source": []
  },
  {
   "cell_type": "code",
   "execution_count": null,
   "metadata": {},
   "outputs": [],
   "source": []
  }
 ],
 "metadata": {
  "kernelspec": {
   "display_name": "Python 2",
   "language": "python",
   "name": "python2"
  },
  "language_info": {
   "codemirror_mode": {
    "name": "ipython",
    "version": 2
   },
   "file_extension": ".py",
   "mimetype": "text/x-python",
   "name": "python",
   "nbconvert_exporter": "python",
   "pygments_lexer": "ipython2",
   "version": "2.7.11"
  }
 },
 "nbformat": 4,
 "nbformat_minor": 2
}
